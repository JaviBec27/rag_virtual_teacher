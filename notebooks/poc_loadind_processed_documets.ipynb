{
 "cells": [
  {
   "cell_type": "code",
   "execution_count": 31,
   "id": "310d11f6-4835-4a8b-a33f-da0a9825fa28",
   "metadata": {},
   "outputs": [],
   "source": [
    "import os\n",
    "from pathlib import Path"
   ]
  },
  {
   "cell_type": "code",
   "execution_count": 32,
   "id": "7a699e1a-a0c8-438c-b735-a98951290d31",
   "metadata": {},
   "outputs": [],
   "source": [
    "def get_available_indexes(folder_base, index_folder):\n",
    "    \"\"\"\n",
    "    Busca en la carpeta de índices y devuelve una lista de los disponibles.\n",
    "    \"\"\"\n",
    "    # --- CONFIGURACIÓN DE RUTAS ---    \n",
    "    if not os.path.exists(index_folder):\n",
    "        print(f\"Error: La carpeta de índices '{index_folder}' no fue encontrada.\")\n",
    "        return []\n",
    "\n",
    "    # Obtener lista de directorios de índices (ej: 'faiss_index_doc1')\n",
    "    processed_folders = [f.name for f in Path(index_folder).iterdir() if f.is_dir()]\n",
    "    \n",
    "    return processed_folders\n"
   ]
  },
  {
   "cell_type": "code",
   "execution_count": 33,
   "id": "163114a1-cacf-4e7b-8a23-26385f5b9115",
   "metadata": {},
   "outputs": [
    {
     "name": "stdout",
     "output_type": "stream",
     "text": [
      "\n",
      "--- Profesores Disponibles ---\n",
      "1. Victor (0 documentos) ⛔ No disponible\n",
      "2. Diego (3 documentos) ✅ Disponible\n",
      "3. Javier (0 documentos) ⛔ No disponible\n",
      "4. Luis (0 documentos) ⛔ No disponible\n"
     ]
    },
    {
     "name": "stdin",
     "output_type": "stream",
     "text": [
      "\n",
      "Selecciona un profesor (1-4):  2\n"
     ]
    },
    {
     "name": "stdout",
     "output_type": "stream",
     "text": [
      "\n",
      "Has seleccionado al profesor Diego con especialidad en 3 areas de conocimiento.\n",
      "\n",
      "--- Áreas de conocimiento disponibles para Consulta ---\n",
      "1. sistema-cardiovascular\n",
      "2. sistema-nervioso-central\n",
      "3. sistema-oseo\n"
     ]
    },
    {
     "name": "stdin",
     "output_type": "stream",
     "text": [
      "\n",
      "Elige el número del área de conocimiento sobre la cual desea profundizar (1-3):  1\n"
     ]
    },
    {
     "name": "stdout",
     "output_type": "stream",
     "text": [
      "\n",
      "--- Configuración del Asistente ---\n",
      "\n",
      "Cargando la base de datos de 'sistema-cardiovascular' desde '../database\\indexed\\faiss\\faiss_index_sistema-cardiovascular'...\n",
      "Profesor 'Diego' es experto en 'sistema-cardiovascular' \n"
     ]
    },
    {
     "name": "stdout",
     "output_type": "stream",
     "text": [
      "\n",
      "Has seleccionado al profesor Diego con 3 documentos.\n",
      "\n",
      "--- Documentos Disponibles para Consulta ---\n",
      "1. sistema-cardiovascular\n",
      "2. sistema-nervioso-central\n",
      "3. sistema-oseo\n"
     ]
    },
    {
     "name": "stdout",
     "output_type": "stream",
     "text": [
      "\n",
      "Elige el número del documento con el que deseas chatear (1-3):  3\n"
     ]
    },
    {
     "name": "stdout",
     "output_type": "stream",
     "text": [
      "\n",
      "--- Configuración del Asistente ---\n",
      "\n",
      "Cargando la base de datos de 'sistema-oseo' desde '../database\\indexed\\faiss\\faiss_index_sistema-oseo'...\n",
      "El '{'teacher': 'Diego', 'docs': 3}' es experto en 'sistema-oseo' \n"
     ]
    },
    {
     "name": "stdout",
     "output_type": "stream",
     "text": [
      "\n",
      "Elige el número del documento con el que deseas chatear (1-3):  2\n"
     ]
    },
    {
     "name": "stdout",
     "output_type": "stream",
     "text": [
      "\n",
      "--- Configuración del Asistente ---\n"
     ]
    },
    {
     "name": "stdout",
     "output_type": "stream",
     "text": [
      "¿Cómo se llamará el profesor experto en 'sistema-nervioso-central'? (Ej: Dr. Deo):  Deo\n"
     ]
    },
    {
     "name": "stdout",
     "output_type": "stream",
     "text": [
      "\n",
      "Cargando la base de datos de 'sistema-nervioso-central' desde '../database\\indexed\\faiss\\faiss_index_sistema-nervioso-central'...\n",
      "El dominio de conocimiento de este documento es 'sistema-nervioso-central': \n"
     ]
    }
   ],
   "source": [
    "def start_chat():\n",
    "    # --- CONFIGURACIÓN DE LA ESTRUCTURA DE CARPETAS FINAL ---\n",
    "    FOLDER_BASE = \"../database\"\n",
    "    FOLDER_INDEX = os.path.join(FOLDER_BASE, \"indexed\", \"faiss\")\n",
    "\n",
    "    # 1. OBTENER Y MOSTRAR LOS ÍNDICES DISPONIBLES\n",
    "    index_list = get_available_indexes(FOLDER_BASE, FOLDER_INDEX)\n",
    "\n",
    "    if not index_list:\n",
    "        print(\"No se encontraron documentos procesados para iniciar el chat.\")\n",
    "        return\n",
    "\n",
    "    teachers_data = [\n",
    "        {\"teacher\": \"Victor\", \"docs\": 0},\n",
    "        {\"teacher\": \"Diego\", \"docs\": len(index_list)},\n",
    "        {\"teacher\": \"Javier\", \"docs\": 0},\n",
    "        {\"teacher\": \"Luis\", \"docs\": 0},\n",
    "    ]\n",
    "\n",
    "    print(\"\\n--- Profesores Disponibles ---\")\n",
    "    for i, item in enumerate(teachers_data):\n",
    "        status = \"✅ Disponible\" if item[\"docs\"] > 0 else \"⛔ No disponible\"\n",
    "        print(f\"{i + 1}. {item['teacher']} ({item['docs']} documentos) {status}\")\n",
    "\n",
    "    # Selección del profesor\n",
    "    selected_index = -1\n",
    "    while selected_index < 0 or selected_index >= len(teachers_data):\n",
    "        try:\n",
    "            choice = input(f\"\\nSelecciona un profesor (1-{len(teachers_data)}): \")\n",
    "            selected_index = int(choice) - 1\n",
    "            if selected_index < 0 or selected_index >= len(teachers_data):\n",
    "                print(\"Selección inválida.\")\n",
    "        except ValueError:\n",
    "            print(\"Entrada no válida.\")\n",
    "\n",
    "    selected_teacher = teachers_data[selected_index]\n",
    "\n",
    "    if selected_teacher[\"docs\"] == 0:\n",
    "        print(\n",
    "            f\"\\nEl profesor {selected_teacher['teacher']} aún no tiene temas disponibles.\"\n",
    "        )\n",
    "        return\n",
    "\n",
    "    print(\n",
    "        f\"\\nHas seleccionado al profesor {selected_teacher['teacher']} con especialidad en {selected_teacher['docs']} areas de conocimiento.\"\n",
    "    )\n",
    "    # Aquí podrías continuar con la selección de área o documento específico\n",
    "\n",
    "    print(\"\\n--- Áreas de conocimiento disponibles para Consulta ---\")\n",
    "    # Limpiamos los nombres para que sean más legibles en el menú\n",
    "    friendly_names = [name.replace(\"faiss_index_\", \"\") for name in index_list]\n",
    "\n",
    "    for i, name in enumerate(friendly_names):\n",
    "        print(f\"{i + 1}. {name}\")\n",
    "\n",
    "    # 2. PERMITIR AL USUARIO ELEGIR UN DOCUMENTO\n",
    "    user_selection = -1\n",
    "    while user_selection < 0 or user_selection >= len(index_list):\n",
    "        try:\n",
    "            choice = input(\n",
    "                f\"\\nElige el número del área de conocimiento sobre la cual desea profundizar (1-{len(index_list)}): \"\n",
    "            )\n",
    "            user_selection = int(choice) - 1\n",
    "            if user_selection < 0 or user_selection >= len(index_list):\n",
    "                print(\"Selección inválida. Por favor, elige un número de la lista.\")\n",
    "        except ValueError:\n",
    "            print(\"Entrada no válida. Por favor, introduce un número.\")\n",
    "\n",
    "    selected_folder_name = index_list[user_selection]\n",
    "    selected_document_name = friendly_names[user_selection]\n",
    "    full_index_path = os.path.join(FOLDER_INDEX, selected_folder_name)\n",
    "\n",
    "    # 3. PERSONALIZACIÓN DINÁMICA DE LA PERSONALIDAD\n",
    "    print(\"\\n--- Configuración del Asistente ---\")\n",
    "    teacher_name = selected_teacher['teacher']\n",
    "\n",
    "    knowledge_domain = selected_document_name\n",
    "\n",
    "    # 4. Carga de la base de datos vectorial SELECCIONADA\n",
    "    print(\n",
    "        f\"\\nCargando la base de datos de '{selected_document_name}' desde '{full_index_path}'...\"\n",
    "    )\n",
    "\n",
    "    print(f\"Profesor '{teacher_name}' es experto en '{knowledge_domain}' \")\n",
    "\n",
    "\n",
    "if __name__ == \"__main__\":\n",
    "    start_chat()"
   ]
  }
 ],
 "metadata": {
  "kernelspec": {
   "display_name": "Python [conda env:base] *",
   "language": "python",
   "name": "conda-base-py"
  },
  "language_info": {
   "codemirror_mode": {
    "name": "ipython",
    "version": 3
   },
   "file_extension": ".py",
   "mimetype": "text/x-python",
   "name": "python",
   "nbconvert_exporter": "python",
   "pygments_lexer": "ipython3",
   "version": "3.13.5"
  }
 },
 "nbformat": 4,
 "nbformat_minor": 5
}
