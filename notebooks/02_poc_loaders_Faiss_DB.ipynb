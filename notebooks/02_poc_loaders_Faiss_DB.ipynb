{
 "cells": [
  {
   "cell_type": "code",
   "execution_count": 28,
   "id": "d7283b9c-c68f-4ee1-845d-90b7c82aa0af",
   "metadata": {},
   "outputs": [],
   "source": [
    "import langchain\n",
    "import os"
   ]
  },
  {
   "cell_type": "code",
   "execution_count": 29,
   "id": "37a8723d-492a-41c5-bc75-d9fc3cf27ea1",
   "metadata": {},
   "outputs": [],
   "source": [
    "from langchain_google_genai import ChatGoogleGenerativeAI\n",
    "from langchain_core.messages import HumanMessage\n",
    "from dotenv import load_dotenv\n",
    "from langchain.chains import RetrievalQA\n",
    "from langchain.text_splitter import RecursiveCharacterTextSplitter\n",
    "from langchain_community.document_loaders import PyPDFLoader\n",
    "from langchain_community.vectorstores import FAISS\n",
    "from langchain_google_genai import ChatGoogleGenerativeAI, GoogleGenerativeAIEmbeddings"
   ]
  },
  {
   "cell_type": "code",
   "execution_count": 30,
   "id": "a2572361-8df9-41a5-aa75-32d5f4bd94e7",
   "metadata": {},
   "outputs": [
    {
     "name": "stdout",
     "output_type": "stream",
     "text": [
      "Info: Archivo '../gem_apikey.txt'. OK.\n"
     ]
    }
   ],
   "source": [
    "try:\n",
    "    with open('../gem_apikey.txt') as f:\n",
    "        api_key = f.read().strip()\n",
    "        print(\"Info: Archivo '../gem_apikey.txt'. OK.\")\n",
    "except FileNotFoundError:\n",
    "    print(\"Error: No se encontró el archivo '../gem_apikey.txt'. Asegúrate de que la ruta es correcta.\")\n",
    "    api_key = None"
   ]
  },
  {
   "cell_type": "code",
   "execution_count": 31,
   "id": "0eda1b65-eeb5-4cce-9852-07e9cacc4fed",
   "metadata": {},
   "outputs": [
    {
     "name": "stdout",
     "output_type": "stream",
     "text": [
      "Cargando el documento PDF desde: ../Docs/Doc2.pdf\n",
      "Documento cargado. Número de páginas: 29\n",
      "Dividiendo el texto en fragmentos...\n",
      "Documento dividido en 26 fragmentos.\n",
      "Creando embeddings y la base de datos vectorial con Gemini...\n",
      "Base de datos vectorial creada en memoria.\n",
      "Guardando la base de datos en la carpeta: 'faiss_index_doc2'...\n",
      "\n",
      "¡Éxito! La base de datos vectorial se ha guardado permanentemente.\n"
     ]
    }
   ],
   "source": [
    "def procesar_y_guardar_vectordb():\n",
    "    \"\"\"\n",
    "    Lee un documento PDF, lo procesa para crear una base de datos vectorial\n",
    "    y la guarda permanentemente en el disco.\n",
    "    \"\"\"\n",
    "    if not api_key:\n",
    "        print(\"Proceso detenido. No se pudo cargar la API key.\")\n",
    "        return\n",
    "\n",
    "    # --- CONFIGURACIÓN ---\n",
    "    RUTA_PDF = \"../Docs/Doc2.pdf\"\n",
    "    CARPETA_GUARDADO = \"faiss_index_doc2\"\n",
    "    \n",
    "    # 1. Carga del documento PDF\n",
    "    print(f\"Cargando el documento PDF desde: {RUTA_PDF}\")\n",
    "    try:\n",
    "        loader = PyPDFLoader(RUTA_PDF)\n",
    "        documents = loader.load()\n",
    "        print(f\"Documento cargado. Número de páginas: {len(documents)}\")\n",
    "    except Exception as e:\n",
    "        print(f\"Error al cargar el PDF: {e}\")\n",
    "        return\n",
    "\n",
    "    # 2. División del texto en fragmentos\n",
    "    print(\"Dividiendo el texto en fragmentos...\")\n",
    "    text_splitter = RecursiveCharacterTextSplitter(chunk_size=1000, chunk_overlap=200)\n",
    "    texts = text_splitter.split_documents(documents)\n",
    "    print(f\"Documento dividido en {len(texts)} fragmentos.\")\n",
    "\n",
    "    # 3. Creación de Embeddings y la base de datos vectorial (en memoria)\n",
    "    print(\"Creando embeddings y la base de datos vectorial con Gemini...\")\n",
    "    embeddings = GoogleGenerativeAIEmbeddings(model=\"models/embedding-001\", google_api_key=api_key)\n",
    "    vectorstore = FAISS.from_documents(texts, embeddings)\n",
    "    print(\"Base de datos vectorial creada en memoria.\")\n",
    "\n",
    "    # 4. GUARDADO EN DISCO (Este es el paso nuevo y clave)\n",
    "    print(f\"Guardando la base de datos en la carpeta: '{CARPETA_GUARDADO}'...\")\n",
    "    vectorstore.save_local(CARPETA_GUARDADO)\n",
    "    print(\"\\n¡Éxito! La base de datos vectorial se ha guardado permanentemente.\")\n",
    "    \n",
    "if __name__ == \"__main__\":\n",
    "    procesar_y_guardar_vectordb()"
   ]
  }
 ],
 "metadata": {
  "kernelspec": {
   "display_name": "Python [conda env:base] *",
   "language": "python",
   "name": "conda-base-py"
  },
  "language_info": {
   "codemirror_mode": {
    "name": "ipython",
    "version": 3
   },
   "file_extension": ".py",
   "mimetype": "text/x-python",
   "name": "python",
   "nbconvert_exporter": "python",
   "pygments_lexer": "ipython3",
   "version": "3.13.5"
  }
 },
 "nbformat": 4,
 "nbformat_minor": 5
}
