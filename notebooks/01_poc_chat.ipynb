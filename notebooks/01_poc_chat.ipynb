{
 "cells": [
  {
   "cell_type": "code",
   "execution_count": null,
   "id": "6c4c0ccd-94a8-49bb-94cb-8f0b3005e0dc",
   "metadata": {},
   "outputs": [
    {
     "name": "stdout",
     "output_type": "stream",
     "text": [
      "API key cargada correctamente.\n",
      "Cargando la base de datos vectorial desde 'faiss_index_doc1'...\n",
      "Cadena de RAG lista. ¡El asistente de profesor está listo!\n",
      "\n",
      "¡El asistente de profesor está listo para responder preguntas sobre el PDF!\n",
      "Escribe 'salir' para terminar la conversación.\n"
     ]
    },
    {
     "name": "stdout",
     "output_type": "stream",
     "text": [
      "\n",
      "Pregunta del estudiante: :  que es cardiovascular?\n"
     ]
    },
    {
     "name": "stdout",
     "output_type": "stream",
     "text": [
      "\n",
      "Respuesta del asistente:\n",
      "El sistema cardiovascular está formado por el corazón y los vasos sanguíneos (arterias, venas y capilares).  Es un sistema de transporte donde el corazón, una bomba muscular, mueve la sangre a través de un circuito cerrado de vasos sanguíneos.  Sus funciones incluyen llevar sustancias a las células para su funcionamiento y eliminar los productos de desecho.\n"
     ]
    },
    {
     "name": "stdout",
     "output_type": "stream",
     "text": [
      "\n",
      "Pregunta del estudiante: :  salir\n"
     ]
    }
   ],
   "source": [
    "import os\n",
    "from langchain_community.vectorstores import FAISS\n",
    "from langchain_google_genai import GoogleGenerativeAIEmbeddings, ChatGoogleGenerativeAI\n",
    "from langchain.chains import RetrievalQA\n",
    "\n",
    "# --- Carga de la API key (necesaria para el LLM y los embeddings de la pregunta) ---\n",
    "try:\n",
    "    with open('../gem_apikey.txt') as f:\n",
    "        api_key = f.read().strip()\n",
    "    print(\"API key cargada correctamente.\")\n",
    "except FileNotFoundError:\n",
    "    print(\"Error: No se encontró el archivo '../gem_apikey.txt'.\")\n",
    "    api_key = None\n",
    "# -----------------------------------------\n",
    "\n",
    "def iniciar_chat():\n",
    "    \"\"\"\n",
    "    Carga una base de datos vectorial guardada en disco e inicia el chat.\n",
    "    \"\"\"\n",
    "    if not api_key:\n",
    "        print(\"Proceso detenido. No se pudo cargar la API key.\")\n",
    "        return\n",
    "\n",
    "    # --- CONFIGURACIÓN ---\n",
    "    CARPETA_GUARDADO = \"faiss_index_doc1\"\n",
    "    \n",
    "    # 1. Carga de la base de datos vectorial desde el disco\n",
    "    print(f\"Cargando la base de datos vectorial desde '{CARPETA_GUARDADO}'...\")\n",
    "    embeddings = GoogleGenerativeAIEmbeddings(model=\"models/embedding-001\", google_api_key=api_key)\n",
    "    vectorstore = FAISS.load_local(CARPETA_GUARDADO, embeddings, allow_dangerous_deserialization=True)\n",
    "    \n",
    "    # 2. Configuración del LLM\n",
    "    llm = ChatGoogleGenerativeAI(model=\"gemini-1.5-flash\", temperature=0.2, google_api_key=api_key)\n",
    "    \n",
    "    # 3. Creación de la cadena de RAG\n",
    "    qa_chain = RetrievalQA.from_chain_type(\n",
    "        llm=llm,\n",
    "        chain_type=\"stuff\",\n",
    "        retriever=vectorstore.as_retriever()\n",
    "    )\n",
    "    print(\"Cadena de RAG lista. ¡El asistente de profesor está listo!\")\n",
    "\n",
    "    print(\"\\n¡El asistente de profesor está listo para responder preguntas sobre el PDF!\")\n",
    "    print(\"Escribe 'salir' para terminar la conversación.\")\n",
    "    \n",
    "    # 4. Bucle de chat\n",
    "    while True:\n",
    "        query = input(\"\\nPregunta del estudiante: : \")\n",
    "        if query.lower() == \"salir\":\n",
    "            break\n",
    "        result = qa_chain.invoke({\"query\": query})\n",
    "        print(\"\\nRespuesta del asistente:\")\n",
    "        print(result[\"result\"])\n",
    "\n",
    "if __name__ == \"__main__\":\n",
    "    iniciar_chat()"
   ]
  }
 ],
 "metadata": {
  "kernelspec": {
   "display_name": "Python [conda env:base] *",
   "language": "python",
   "name": "conda-base-py"
  },
  "language_info": {
   "codemirror_mode": {
    "name": "ipython",
    "version": 3
   },
   "file_extension": ".py",
   "mimetype": "text/x-python",
   "name": "python",
   "nbconvert_exporter": "python",
   "pygments_lexer": "ipython3",
   "version": "3.13.5"
  }
 },
 "nbformat": 4,
 "nbformat_minor": 5
}
