{
 "cells": [
  {
   "cell_type": "code",
   "execution_count": 1,
   "id": "b751b538",
   "metadata": {},
   "outputs": [
    {
     "name": "stdout",
     "output_type": "stream",
     "text": [
      "¡Modelo Gemini instanciado correctamente!\n"
     ]
    }
   ],
   "source": [
    "from langchain_google_genai import ChatGoogleGenerativeAI\n",
    "\n",
    "try:\n",
    "    with open(\"../gem_apikey.txt\") as f:\n",
    "        api_key = f.read().strip()\n",
    "except FileNotFoundError:\n",
    "    print(\n",
    "        \"Error: No se encontró el archivo '../gem_apikey.txt'. Asegúrate de que la ruta es correcta.\"\n",
    "    )\n",
    "    api_key = None\n",
    "\n",
    "if api_key:\n",
    "    # Usas ChatGoogleGenerativeAI, especificando el modelo y tu clave\n",
    "    chat = ChatGoogleGenerativeAI(model=\"gemini-2.5-flash\", google_api_key=api_key)\n",
    "\n",
    "    print(\"¡Modelo Gemini instanciado correctamente!\")"
   ]
  }
 ],
 "metadata": {
  "kernelspec": {
   "display_name": "Python [conda env:base] *",
   "language": "python",
   "name": "conda-base-py"
  },
  "language_info": {
   "codemirror_mode": {
    "name": "ipython",
    "version": 3
   },
   "file_extension": ".py",
   "mimetype": "text/x-python",
   "name": "python",
   "nbconvert_exporter": "python",
   "pygments_lexer": "ipython3",
   "version": "3.13.5"
  }
 },
 "nbformat": 4,
 "nbformat_minor": 5
}
