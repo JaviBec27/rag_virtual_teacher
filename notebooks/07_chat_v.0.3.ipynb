{
 "cells": [
  {
   "cell_type": "code",
   "execution_count": 15,
   "id": "ee0dd4aa-cdc3-42d9-b456-347d2116f199",
   "metadata": {},
   "outputs": [],
   "source": [
    "import os\n",
    "from langchain_community.vectorstores import FAISS\n",
    "from langchain_google_genai import GoogleGenerativeAIEmbeddings, ChatGoogleGenerativeAI\n",
    "\n",
    "# Nuevas importaciones para la sintaxis moderna (LCEL)\n",
    "from langchain_core.prompts import (\n",
    "    ChatPromptTemplate,\n",
    "    PromptTemplate,\n",
    "    SystemMessagePromptTemplate,\n",
    "    AIMessagePromptTemplate,\n",
    "    HumanMessagePromptTemplate,\n",
    ")\n",
    "\n",
    "from langchain_core.output_parsers import StrOutputParser\n",
    "from langchain_core.runnables import  RunnablePassthrough\n",
    "from pathlib import Path"
   ]
  },
  {
   "cell_type": "code",
   "execution_count": 16,
   "id": "2e565b1b-a3d3-45c0-b395-406d0941832f",
   "metadata": {},
   "outputs": [
    {
     "name": "stdout",
     "output_type": "stream",
     "text": [
      "API key cargada correctamente.\n"
     ]
    }
   ],
   "source": [
    "# --- Carga de la API key ---\n",
    "try:\n",
    "    with open(\"../gem_apikey.txt\") as f:\n",
    "        api_key = f.read().strip()\n",
    "    print(\"API key cargada correctamente.\")\n",
    "except FileNotFoundError:\n",
    "    print(\"Error: No se encontró el archivo '../gem_apikey.txt'.\")\n",
    "    api_key = None"
   ]
  },
  {
   "cell_type": "code",
   "execution_count": 17,
   "id": "938a40ee-fbf7-489e-93a5-ef80eaa5b5c8",
   "metadata": {},
   "outputs": [],
   "source": [
    "def get_available_indexes(index_folder):\n",
    "    \"\"\"\n",
    "    Busca en la carpeta de índices y devuelve una lista de los disponibles.\n",
    "    \"\"\"    \n",
    "    if not os.path.exists(index_folder):\n",
    "        print(f\"Error: La carpeta de índices '{index_folder}' no fue encontrada.\")\n",
    "        return []\n",
    "\n",
    "    # Obtener lista de directorios de índices (ej: 'faiss_index_doc1')\n",
    "    processed_folders = [f.name for f in Path(index_folder).iterdir() if f.is_dir()]\n",
    "    \n",
    "    return processed_folders"
   ]
  },
  {
   "cell_type": "code",
   "execution_count": 18,
   "id": "4fd9f0cd-3add-47b6-9985-ef201764c3f2",
   "metadata": {},
   "outputs": [],
   "source": [
    "def select_teacher(index_list):\n",
    "    \"\"\"\n",
    "    Muestra un menú para seleccionar un profesor y devuelve los datos del profesor elegido.\n",
    "\n",
    "    Args:\n",
    "        index_list (list): Lista de índices de documentos disponibles.\n",
    "\n",
    "    Returns:\n",
    "        dict: Un diccionario con los datos del profesor seleccionado o None si no se elige uno válido.\n",
    "    \"\"\"\n",
    "    teachers_data = [\n",
    "        {\"teacher\": \"Victor\", \"docs\": 0},\n",
    "        {\"teacher\": \"Diego\", \"docs\": len(index_list)},\n",
    "        {\"teacher\": \"Javier\", \"docs\": 0},\n",
    "        {\"teacher\": \"Luis\", \"docs\": 0},\n",
    "    ]\n",
    "\n",
    "    print(\"\\n--- Profesores Disponibles ---\")\n",
    "    for i, item in enumerate(teachers_data):\n",
    "        status = \"✅ Disponible\" if item[\"docs\"] > 0 else \"⛔ No disponible\"\n",
    "        print(f\"{i + 1}. {item['teacher']} ({item['docs']} documentos) {status}\")\n",
    "\n",
    "    selected_index = -1\n",
    "    while selected_index < 0 or selected_index >= len(teachers_data):\n",
    "        try:\n",
    "            choice = input(f\"\\nSelecciona un profesor (1-{len(teachers_data)}): \")\n",
    "            selected_index = int(choice) - 1\n",
    "            if selected_index < 0 or selected_index >= len(teachers_data):\n",
    "                print(\"Selección inválida.\")\n",
    "        except ValueError:\n",
    "            print(\"Entrada no válida.\")\n",
    "\n",
    "    selected_teacher = teachers_data[selected_index]\n",
    "\n",
    "    if selected_teacher[\"docs\"] == 0:\n",
    "        print(f\"\\nEl profesor {selected_teacher['teacher']} aún no tiene temas disponibles.\")\n",
    "        return None\n",
    "\n",
    "    print(f\"\\nHas seleccionado al profesor {selected_teacher['teacher']}.\")\n",
    "    return selected_teacher"
   ]
  },
  {
   "cell_type": "code",
   "execution_count": 19,
   "id": "41f4f851-70a7-47cb-9169-a67ea5db00f0",
   "metadata": {},
   "outputs": [],
   "source": [
    "def select_knowledge_area(index_list, base_index_folder):\n",
    "    \"\"\"\n",
    "    Muestra un menú para seleccionar un área de conocimiento y devuelve sus detalles.\n",
    "\n",
    "    Args:\n",
    "        index_list (list): Lista de índices de documentos disponibles.\n",
    "        base_index_folder (str): Ruta a la carpeta que contiene los índices.\n",
    "\n",
    "    Returns:\n",
    "        dict: Un diccionario con los detalles del área seleccionada o None.\n",
    "    \"\"\"\n",
    "    print(\"\\n--- Áreas de conocimiento disponibles para Consulta ---\")\n",
    "    friendly_names = [name.replace(\"faiss_index_\", \"\") for name in index_list]\n",
    "    for i, name in enumerate(friendly_names):\n",
    "        print(f\"{i + 1}. {name}\")\n",
    "\n",
    "    user_selection = -1\n",
    "    while user_selection < 0 or user_selection >= len(index_list):\n",
    "        try:\n",
    "            choice = input(f\"\\nElige el área de conocimiento (1-{len(index_list)}): \")\n",
    "            user_selection = int(choice) - 1\n",
    "            if user_selection < 0 or user_selection >= len(index_list):\n",
    "                print(\"Selección inválida.\")\n",
    "        except ValueError:\n",
    "            print(\"Entrada no válida.\")\n",
    "\n",
    "    selected_folder_name = index_list[user_selection]\n",
    "    selected_document_name = friendly_names[user_selection]\n",
    "    full_index_path = os.path.join(base_index_folder, selected_folder_name)\n",
    "\n",
    "    return {\n",
    "        \"folder_name\": selected_folder_name,\n",
    "        \"document_name\": selected_document_name,\n",
    "        \"full_path\": full_index_path,\n",
    "    }"
   ]
  },
  {
   "cell_type": "code",
   "execution_count": 20,
   "id": "d9f9c6bc-d6c4-4be4-9112-b8451116b068",
   "metadata": {},
   "outputs": [],
   "source": [
    "def configure_rag_chain(api_key, teacher_name, knowledge_domain, index_path):\n",
    "    \"\"\"\n",
    "    Configura y devuelve la cadena RAG completa de LangChain.\n",
    "\n",
    "    Args:\n",
    "        api_key (str): La API key de Google.\n",
    "        teacher_name (str): Nombre del profesor para el prompt.\n",
    "        knowledge_domain (str): Dominio de conocimiento para el prompt.\n",
    "        index_path (str): Ruta al índice FAISS a cargar.\n",
    "\n",
    "    Returns:\n",
    "        Runnable: La cadena RAG ejecutable o None si ocurre un error.\n",
    "    \"\"\"\n",
    "    print(f\"\\nCargando la base de datos de '{knowledge_domain}'...\")\n",
    "    try:\n",
    "        embeddings = GoogleGenerativeAIEmbeddings(model=\"models/embedding-001\", google_api_key=api_key)\n",
    "        vectorstore = FAISS.load_local(index_path, embeddings, allow_dangerous_deserialization=True)\n",
    "        retriever = vectorstore.as_retriever()\n",
    "        print(\"¡Base de datos cargada exitosamente!\")\n",
    "    except Exception as e:\n",
    "        print(f\"Error al cargar la base de datos vectorial: {e}\")\n",
    "        return None\n",
    "\n",
    "    llm = ChatGoogleGenerativeAI(model=\"gemini-1.5-flash\", temperature=0.3, google_api_key=api_key)\n",
    "\n",
    "    system_template = \"\"\"Eres un asistente virtual que se comporta como un profesor de {knowledgeDomain} experto.\n",
    "    Tu nombre es \"IAsistente de {Teacher}\". Eres amable, didáctico y te encanta {knowledgeDomain}. \n",
    "    REGLA ESTRICTA: Solo puedes responder preguntas relacionadas con {knowledgeDomain} basándote en el contexto proporcionado. Si la pregunta no está relacionada con estos temas, \n",
    "    responde: \"Lo siento, mi especialidad es {knowledgeDomain}. No puedo responder preguntas sobre otros temas.\n",
    "    Cuando te digan \"salir\", te despedirás amablemente.\"\"\"\n",
    "    \n",
    "    system_message_prompt = SystemMessagePromptTemplate.from_template(system_template)\n",
    "    human_template = \"{user_question}\"\n",
    "    human_message_prompt = HumanMessagePromptTemplate.from_template(human_template)\n",
    "    chat_prompt_template = ChatPromptTemplate.from_messages([system_message_prompt, human_message_prompt])\n",
    "\n",
    "    chat_prompt_template = chat_prompt_template.partial(Teacher=teacher_name, knowledgeDomain=knowledge_domain)\n",
    "\n",
    "    rag_chain = (\n",
    "        {\"context\": retriever, \"user_question\": RunnablePassthrough()}\n",
    "        | chat_prompt_template\n",
    "        | llm\n",
    "        | StrOutputParser()\n",
    "    )\n",
    "    return rag_chain"
   ]
  },
  {
   "cell_type": "code",
   "execution_count": 21,
   "id": "ade29d6b-f246-477e-8f85-dacc03da323f",
   "metadata": {},
   "outputs": [
    {
     "name": "stdout",
     "output_type": "stream",
     "text": [
      "\n",
      "--- Profesores Disponibles ---\n",
      "1. Victor (0 documentos) ⛔ No disponible\n",
      "2. Diego (3 documentos) ✅ Disponible\n",
      "3. Javier (0 documentos) ⛔ No disponible\n",
      "4. Luis (0 documentos) ⛔ No disponible\n"
     ]
    },
    {
     "name": "stdin",
     "output_type": "stream",
     "text": [
      "\n",
      "Selecciona un profesor (1-4):  2\n"
     ]
    },
    {
     "name": "stdout",
     "output_type": "stream",
     "text": [
      "\n",
      "Has seleccionado al profesor Diego.\n",
      "\n",
      "--- Áreas de conocimiento disponibles para Consulta ---\n",
      "1. sistema-cardiovascular\n",
      "2. sistema-nervioso-central\n",
      "3. sistema-oseo\n"
     ]
    },
    {
     "name": "stdin",
     "output_type": "stream",
     "text": [
      "\n",
      "Elige el área de conocimiento (1-3):  4\n"
     ]
    },
    {
     "name": "stdout",
     "output_type": "stream",
     "text": [
      "Selección inválida.\n"
     ]
    },
    {
     "name": "stdin",
     "output_type": "stream",
     "text": [
      "\n",
      "Elige el área de conocimiento (1-3):  1\n"
     ]
    },
    {
     "name": "stdout",
     "output_type": "stream",
     "text": [
      "\n",
      "Cargando la base de datos de 'sistema-cardiovascular'...\n",
      "¡Base de datos cargada exitosamente!\n",
      "\n",
      "¡El Asistente de Diego está listo! Escribe 'salir' para terminar.\n"
     ]
    },
    {
     "name": "stdin",
     "output_type": "stream",
     "text": [
      "\n",
      "Pregunta del estudiante:  salir\n"
     ]
    },
    {
     "name": "stdout",
     "output_type": "stream",
     "text": [
      "\n",
      "Asistente de Diego: ¡Hasta luego! Espero haberte ayudado.\n"
     ]
    }
   ],
   "source": [
    "def start_chat():\n",
    "    \"\"\"\n",
    "    Orquesta el inicio del chat: selección, configuración y ejecución.\n",
    "    \"\"\"\n",
    "    if not api_key or api_key == \"TU_API_KEY_AQUI\":\n",
    "        print(\"Proceso detenido. No se pudo cargar la API key.\")\n",
    "        return\n",
    "\n",
    "    # --- Configuración de Rutas ---\n",
    "    FOLDER_BASE = \"../database\"\n",
    "    FOLDER_INDEX = os.path.join(FOLDER_BASE, \"indexed\", \"faiss\")\n",
    "\n",
    "    # --- Flujo del programa ---\n",
    "    index_list = get_available_indexes(FOLDER_INDEX)\n",
    "    if not index_list:\n",
    "        print(\"No se encontraron documentos procesados para iniciar el chat.\")\n",
    "        return\n",
    "\n",
    "    # 1. Seleccionar Profesor\n",
    "    teacher_info = select_teacher(index_list)\n",
    "    if not teacher_info:\n",
    "        return # Termina si no se selecciona un profesor válido\n",
    "\n",
    "    # 2. Seleccionar Área de Conocimiento\n",
    "    area_info = select_knowledge_area(index_list, FOLDER_INDEX)\n",
    "    if not area_info:\n",
    "        return\n",
    "\n",
    "    # 3. Configurar la cadena RAG\n",
    "    rag_chain = configure_rag_chain(\n",
    "        api_key=api_key,\n",
    "        teacher_name=teacher_info[\"teacher\"],\n",
    "        knowledge_domain=area_info[\"document_name\"],\n",
    "        index_path=area_info[\"full_path\"],\n",
    "    )\n",
    "    if not rag_chain:\n",
    "        return\n",
    "\n",
    "    # --- Inicio del Bucle de Chat ---\n",
    "    print(f\"\\n¡El Asistente de {teacher_info['teacher']} está listo! Escribe 'salir' para terminar.\")\n",
    "    \n",
    "    while True:\n",
    "        query = input(\"\\nPregunta del estudiante: \")\n",
    "        if query.lower() == \"salir\":\n",
    "            print(f\"\\nAsistente de {teacher_info['teacher']}: ¡Hasta luego! Espero haberte ayudado.\")\n",
    "            break\n",
    "        \n",
    "        response = rag_chain.invoke(query)\n",
    "        print(f\"\\nRespuesta del Asistente de {teacher_info['teacher']}:\")\n",
    "        print(response)\n",
    "\n",
    "\n",
    "if __name__ == \"__main__\":\n",
    "    start_chat()"
   ]
  }
 ],
 "metadata": {
  "kernelspec": {
   "display_name": "Python [conda env:base] *",
   "language": "python",
   "name": "conda-base-py"
  },
  "language_info": {
   "codemirror_mode": {
    "name": "ipython",
    "version": 3
   },
   "file_extension": ".py",
   "mimetype": "text/x-python",
   "name": "python",
   "nbconvert_exporter": "python",
   "pygments_lexer": "ipython3",
   "version": "3.13.5"
  }
 },
 "nbformat": 4,
 "nbformat_minor": 5
}
