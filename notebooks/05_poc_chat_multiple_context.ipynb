{
 "cells": [
  {
   "cell_type": "code",
   "execution_count": 13,
   "id": "742be5b1",
   "metadata": {},
   "outputs": [],
   "source": [
    "import os\n",
    "from langchain_community.vectorstores import FAISS\n",
    "from langchain_google_genai import GoogleGenerativeAIEmbeddings, ChatGoogleGenerativeAI\n",
    "\n",
    "# Nuevas importaciones para la sintaxis moderna (LCEL)\n",
    "from langchain_core.prompts import (\n",
    "    ChatPromptTemplate,\n",
    "    PromptTemplate,\n",
    "    SystemMessagePromptTemplate,\n",
    "    AIMessagePromptTemplate,\n",
    "    HumanMessagePromptTemplate,\n",
    ")\n",
    "\n",
    "from langchain_core.output_parsers import StrOutputParser\n",
    "from langchain_core.runnables import  RunnablePassthrough\n",
    "from pathlib import Path"
   ]
  },
  {
   "cell_type": "code",
   "execution_count": 14,
   "id": "0e3c1156",
   "metadata": {},
   "outputs": [
    {
     "name": "stdout",
     "output_type": "stream",
     "text": [
      "API key cargada correctamente.\n"
     ]
    }
   ],
   "source": [
    "# --- Carga de la API key (esto está perfecto) ---\n",
    "try:\n",
    "    with open(\"../gem_apikey.txt\") as f:\n",
    "        api_key = f.read().strip()\n",
    "    print(\"API key cargada correctamente.\")\n",
    "except FileNotFoundError:\n",
    "    print(\"Error: No se encontró el archivo '../gem_apikey.txt'.\")\n",
    "    api_key = None"
   ]
  },
  {
   "cell_type": "code",
   "execution_count": 15,
   "id": "dce10f97",
   "metadata": {},
   "outputs": [],
   "source": [
    "def get_available_indexes(index_folder):\n",
    "    \"\"\"\n",
    "    Busca en la carpeta de índices y devuelve una lista de los disponibles.\n",
    "    \"\"\"    \n",
    "    if not os.path.exists(index_folder):\n",
    "        print(f\"Error: La carpeta de índices '{index_folder}' no fue encontrada.\")\n",
    "        return []\n",
    "\n",
    "    # Obtener lista de directorios de índices (ej: 'faiss_index_doc1')\n",
    "    processed_folders = [f.name for f in Path(index_folder).iterdir() if f.is_dir()]\n",
    "    \n",
    "    return processed_folders"
   ]
  },
  {
   "cell_type": "code",
   "execution_count": 16,
   "id": "9d22a553-de37-492f-93d3-ee588e1fc23c",
   "metadata": {},
   "outputs": [
    {
     "name": "stdout",
     "output_type": "stream",
     "text": [
      "\n",
      "--- Profesores Disponibles ---\n",
      "1. Victor (0 documentos) ⛔ No disponible\n",
      "2. Diego (3 documentos) ✅ Disponible\n",
      "3. Javier (0 documentos) ⛔ No disponible\n",
      "4. Luis (0 documentos) ⛔ No disponible\n"
     ]
    },
    {
     "name": "stdin",
     "output_type": "stream",
     "text": [
      "\n",
      "Selecciona un profesor (1-4):  2\n"
     ]
    },
    {
     "name": "stdout",
     "output_type": "stream",
     "text": [
      "\n",
      "Has seleccionado al profesor Diego con especialidad en 3 areas de conocimiento.\n",
      "\n",
      "--- Áreas de conocimiento disponibles para Consulta ---\n",
      "1. sistema-cardiovascular\n",
      "2. sistema-nervioso-central\n",
      "3. sistema-oseo\n"
     ]
    },
    {
     "name": "stdin",
     "output_type": "stream",
     "text": [
      "\n",
      "Elige el número del área de conocimiento sobre la cual desea profundizar (1-3):  3\n"
     ]
    },
    {
     "name": "stdout",
     "output_type": "stream",
     "text": [
      "\n",
      "--- Configuración del Asistente ---\n",
      "\n",
      "Cargando la base de datos de 'sistema-oseo' desde '../database\\indexed\\faiss\\faiss_index_sistema-oseo'...\n",
      "Profesor 'Diego' es experto en 'sistema-oseo' \n",
      "¡Base de datos cargada exitosamente!\n",
      "\n",
      "¡El Asistente de Diego está listo para responder preguntas sobre sistema-oseo!\n",
      "Escribe 'salir' para terminar la conversación.\n"
     ]
    },
    {
     "name": "stdin",
     "output_type": "stream",
     "text": [
      "\n",
      "Pregunta del estudiante:  que es el craneo?\n"
     ]
    },
    {
     "name": "stdout",
     "output_type": "stream",
     "text": [
      "\n",
      "Respuesta del Asistente de Diego:\n",
      "¡Hola! Soy IAsistente de Diego, tu profesor experto en sistema óseo.  Con gusto te explico qué es el cráneo.\n",
      "\n",
      "El cráneo es la estructura ósea que forma la cabeza.  Protege el encéfalo y proporciona soporte a las estructuras faciales. Está formado por varios huesos unidos entre sí por articulaciones inmóviles llamadas suturas,  excepto la mandíbula, que es móvil.  Podemos dividirlo en dos partes principales: el neurocráneo, que protege el cerebro, y el viscerocráneo, que forma la cara.\n"
     ]
    },
    {
     "name": "stdin",
     "output_type": "stream",
     "text": [
      "\n",
      "Pregunta del estudiante:  salir\n"
     ]
    },
    {
     "name": "stdout",
     "output_type": "stream",
     "text": [
      "\n",
      "Respuesta del Asistente de Diego:\n",
      "¡Adiós! Espero haberte ayudado a comprender mejor el sistema óseo.  ¡Que tengas un excelente día!\n"
     ]
    },
    {
     "name": "stdout",
     "output_type": "stream",
     "text": [
      "\n",
      "Has seleccionado al profesor Diego con especialidad en 3 areas de conocimiento.\n",
      "\n",
      "--- Áreas de conocimiento disponibles para Consulta ---\n",
      "1. sistema-cardiovascular\n",
      "2. sistema-nervioso-central\n",
      "3. sistema-oseo\n"
     ]
    },
    {
     "name": "stdout",
     "output_type": "stream",
     "text": [
      "\n",
      "Elige el número del área de conocimiento sobre la cual desea profundizar (1-3):  2\n"
     ]
    },
    {
     "name": "stdout",
     "output_type": "stream",
     "text": [
      "\n",
      "--- Configuración del Asistente ---\n",
      "\n",
      "Cargando la base de datos de 'sistema-nervioso-central' desde '../database\\indexed\\faiss\\faiss_index_sistema-nervioso-central'...\n",
      "Profesor 'Diego' es experto en 'sistema-nervioso-central' \n",
      "¡Base de datos cargada exitosamente!\n",
      "\n",
      "¡El Asistente de Diego está listo para responder preguntas sobre sistema-nervioso-central!\n",
      "Escribe 'salir' para terminar la conversación.\n"
     ]
    },
    {
     "name": "stdout",
     "output_type": "stream",
     "text": [
      "\n",
      "Pregunta del estudiante:  presentate\n"
     ]
    },
    {
     "name": "stdout",
     "output_type": "stream",
     "text": [
      "\n",
      "Respuesta del Asistente de Diego:\n",
      "¡Hola! Soy el IAsistente de Diego, tu experto en sistema nervioso central.  Me apasiona todo lo relacionado con este fascinante sistema y estoy encantado de ayudarte a comprenderlo mejor.  ¡Preguntame lo que quieras!\n"
     ]
    },
    {
     "name": "stdout",
     "output_type": "stream",
     "text": [
      "\n",
      "Pregunta del estudiante:  que es el sistema cerebrovascular?\n"
     ]
    },
    {
     "name": "stdout",
     "output_type": "stream",
     "text": [
      "\n",
      "Respuesta del Asistente de Diego:\n",
      "El sistema cerebrovascular es la red de vasos sanguíneos que irrigan el cerebro.  Es crucial para la salud del sistema nervioso central, ya que proporciona el oxígeno y los nutrientes necesarios para el funcionamiento neuronal y elimina los productos de desecho.  Este sistema incluye las arterias carótidas internas y las arterias vertebrales, que aportan sangre al cerebro, así como las venas que drenan la sangre de regreso al corazón.  Cualquier interrupción en este sistema, como un accidente cerebrovascular (ictus), puede tener consecuencias devastadoras para el funcionamiento cerebral.\n"
     ]
    },
    {
     "name": "stdout",
     "output_type": "stream",
     "text": [
      "\n",
      "Pregunta del estudiante:  que es el humero?\n"
     ]
    },
    {
     "name": "stdout",
     "output_type": "stream",
     "text": [
      "\n",
      "Respuesta del Asistente de Diego:\n",
      "Lo siento, mi especialidad es sistema-nervioso-central. No puedo responder preguntas sobre otros temas.\n"
     ]
    },
    {
     "name": "stdout",
     "output_type": "stream",
     "text": [
      "\n",
      "Has seleccionado al profesor Diego con especialidad en 3 areas de conocimiento.\n",
      "\n",
      "--- Áreas de conocimiento disponibles para Consulta ---\n",
      "1. sistema-cardiovascular\n",
      "2. sistema-nervioso-central\n",
      "3. sistema-oseo\n"
     ]
    },
    {
     "name": "stdout",
     "output_type": "stream",
     "text": [
      "\n",
      "Elige el número del área de conocimiento sobre la cual desea profundizar (1-3):  3\n"
     ]
    },
    {
     "name": "stdout",
     "output_type": "stream",
     "text": [
      "\n",
      "--- Configuración del Asistente ---\n",
      "\n",
      "Cargando la base de datos de 'sistema-oseo' desde '../database\\indexed\\faiss\\faiss_index_sistema-oseo'...\n",
      "Profesor 'Diego' es experto en 'sistema-oseo' \n",
      "¡Base de datos cargada exitosamente!\n",
      "\n",
      "¡El Asistente de Diego está listo para responder preguntas sobre sistema-oseo!\n",
      "Escribe 'salir' para terminar la conversación.\n"
     ]
    },
    {
     "name": "stdout",
     "output_type": "stream",
     "text": [
      "\n",
      "Pregunta del estudiante:  que es el sistema cardiovascular?\n"
     ]
    },
    {
     "ename": "KeyError",
     "evalue": "\"Input to ChatPromptTemplate is missing variables {'pregunta_usuario'}.  Expected: ['pregunta_usuario'] Received: ['context', 'user_question']\\nNote: if you intended {pregunta_usuario} to be part of the string and not a variable, please escape it with double curly braces like: '{{pregunta_usuario}}'.\\nFor troubleshooting, visit: https://python.langchain.com/docs/troubleshooting/errors/INVALID_PROMPT_INPUT \"",
     "output_type": "error",
     "traceback": [
      "\u001b[1;31m---------------------------------------------------------------------------\u001b[0m",
      "\u001b[1;31mKeyError\u001b[0m                                  Traceback (most recent call last)",
      "Cell \u001b[1;32mIn[8], line 159\u001b[0m\n\u001b[0;32m    155\u001b[0m         \u001b[38;5;28mprint\u001b[39m(response)\n\u001b[0;32m    158\u001b[0m \u001b[38;5;28;01mif\u001b[39;00m \u001b[38;5;18m__name__\u001b[39m \u001b[38;5;241m==\u001b[39m \u001b[38;5;124m\"\u001b[39m\u001b[38;5;124m__main__\u001b[39m\u001b[38;5;124m\"\u001b[39m:\n\u001b[1;32m--> 159\u001b[0m     start_chat()\n",
      "Cell \u001b[1;32mIn[8], line 152\u001b[0m, in \u001b[0;36mstart_chat\u001b[1;34m()\u001b[0m\n\u001b[0;32m    149\u001b[0m \u001b[38;5;28;01mif\u001b[39;00m query\u001b[38;5;241m.\u001b[39mlower() \u001b[38;5;241m==\u001b[39m \u001b[38;5;124m\"\u001b[39m\u001b[38;5;124msalir\u001b[39m\u001b[38;5;124m\"\u001b[39m:\n\u001b[0;32m    150\u001b[0m     \u001b[38;5;28;01mbreak\u001b[39;00m\n\u001b[1;32m--> 152\u001b[0m response \u001b[38;5;241m=\u001b[39m rag_chain\u001b[38;5;241m.\u001b[39minvoke(query)\n\u001b[0;32m    154\u001b[0m \u001b[38;5;28mprint\u001b[39m(\u001b[38;5;124mf\u001b[39m\u001b[38;5;124m\"\u001b[39m\u001b[38;5;130;01m\\n\u001b[39;00m\u001b[38;5;124mRespuesta del Asistente de \u001b[39m\u001b[38;5;132;01m{\u001b[39;00mteacher_name\u001b[38;5;132;01m}\u001b[39;00m\u001b[38;5;124m:\u001b[39m\u001b[38;5;124m\"\u001b[39m)\n\u001b[0;32m    155\u001b[0m \u001b[38;5;28mprint\u001b[39m(response)\n",
      "File \u001b[1;32m~\\anaconda3\\Lib\\site-packages\\langchain_core\\runnables\\base.py:3046\u001b[0m, in \u001b[0;36mRunnableSequence.invoke\u001b[1;34m(self, input, config, **kwargs)\u001b[0m\n\u001b[0;32m   3044\u001b[0m                 input_ \u001b[38;5;241m=\u001b[39m context\u001b[38;5;241m.\u001b[39mrun(step\u001b[38;5;241m.\u001b[39minvoke, input_, config, \u001b[38;5;241m*\u001b[39m\u001b[38;5;241m*\u001b[39mkwargs)\n\u001b[0;32m   3045\u001b[0m             \u001b[38;5;28;01melse\u001b[39;00m:\n\u001b[1;32m-> 3046\u001b[0m                 input_ \u001b[38;5;241m=\u001b[39m context\u001b[38;5;241m.\u001b[39mrun(step\u001b[38;5;241m.\u001b[39minvoke, input_, config)\n\u001b[0;32m   3047\u001b[0m \u001b[38;5;66;03m# finish the root run\u001b[39;00m\n\u001b[0;32m   3048\u001b[0m \u001b[38;5;28;01mexcept\u001b[39;00m \u001b[38;5;167;01mBaseException\u001b[39;00m \u001b[38;5;28;01mas\u001b[39;00m e:\n",
      "File \u001b[1;32m~\\anaconda3\\Lib\\site-packages\\langchain_core\\prompts\\base.py:216\u001b[0m, in \u001b[0;36mBasePromptTemplate.invoke\u001b[1;34m(self, input, config, **kwargs)\u001b[0m\n\u001b[0;32m    214\u001b[0m \u001b[38;5;28;01mif\u001b[39;00m \u001b[38;5;28mself\u001b[39m\u001b[38;5;241m.\u001b[39mtags:\n\u001b[0;32m    215\u001b[0m     config[\u001b[38;5;124m\"\u001b[39m\u001b[38;5;124mtags\u001b[39m\u001b[38;5;124m\"\u001b[39m] \u001b[38;5;241m=\u001b[39m config[\u001b[38;5;124m\"\u001b[39m\u001b[38;5;124mtags\u001b[39m\u001b[38;5;124m\"\u001b[39m] \u001b[38;5;241m+\u001b[39m \u001b[38;5;28mself\u001b[39m\u001b[38;5;241m.\u001b[39mtags\n\u001b[1;32m--> 216\u001b[0m \u001b[38;5;28;01mreturn\u001b[39;00m \u001b[38;5;28mself\u001b[39m\u001b[38;5;241m.\u001b[39m_call_with_config(\n\u001b[0;32m    217\u001b[0m     \u001b[38;5;28mself\u001b[39m\u001b[38;5;241m.\u001b[39m_format_prompt_with_error_handling,\n\u001b[0;32m    218\u001b[0m     \u001b[38;5;28minput\u001b[39m,\n\u001b[0;32m    219\u001b[0m     config,\n\u001b[0;32m    220\u001b[0m     run_type\u001b[38;5;241m=\u001b[39m\u001b[38;5;124m\"\u001b[39m\u001b[38;5;124mprompt\u001b[39m\u001b[38;5;124m\"\u001b[39m,\n\u001b[0;32m    221\u001b[0m     serialized\u001b[38;5;241m=\u001b[39m\u001b[38;5;28mself\u001b[39m\u001b[38;5;241m.\u001b[39m_serialized,\n\u001b[0;32m    222\u001b[0m )\n",
      "File \u001b[1;32m~\\anaconda3\\Lib\\site-packages\\langchain_core\\runnables\\base.py:1939\u001b[0m, in \u001b[0;36mRunnable._call_with_config\u001b[1;34m(self, func, input_, config, run_type, serialized, **kwargs)\u001b[0m\n\u001b[0;32m   1935\u001b[0m     child_config \u001b[38;5;241m=\u001b[39m patch_config(config, callbacks\u001b[38;5;241m=\u001b[39mrun_manager\u001b[38;5;241m.\u001b[39mget_child())\n\u001b[0;32m   1936\u001b[0m     \u001b[38;5;28;01mwith\u001b[39;00m set_config_context(child_config) \u001b[38;5;28;01mas\u001b[39;00m context:\n\u001b[0;32m   1937\u001b[0m         output \u001b[38;5;241m=\u001b[39m cast(\n\u001b[0;32m   1938\u001b[0m             \u001b[38;5;124m\"\u001b[39m\u001b[38;5;124mOutput\u001b[39m\u001b[38;5;124m\"\u001b[39m,\n\u001b[1;32m-> 1939\u001b[0m             context\u001b[38;5;241m.\u001b[39mrun(\n\u001b[0;32m   1940\u001b[0m                 call_func_with_variable_args,  \u001b[38;5;66;03m# type: ignore[arg-type]\u001b[39;00m\n\u001b[0;32m   1941\u001b[0m                 func,\n\u001b[0;32m   1942\u001b[0m                 input_,\n\u001b[0;32m   1943\u001b[0m                 config,\n\u001b[0;32m   1944\u001b[0m                 run_manager,\n\u001b[0;32m   1945\u001b[0m                 \u001b[38;5;241m*\u001b[39m\u001b[38;5;241m*\u001b[39mkwargs,\n\u001b[0;32m   1946\u001b[0m             ),\n\u001b[0;32m   1947\u001b[0m         )\n\u001b[0;32m   1948\u001b[0m \u001b[38;5;28;01mexcept\u001b[39;00m \u001b[38;5;167;01mBaseException\u001b[39;00m \u001b[38;5;28;01mas\u001b[39;00m e:\n\u001b[0;32m   1949\u001b[0m     run_manager\u001b[38;5;241m.\u001b[39mon_chain_error(e)\n",
      "File \u001b[1;32m~\\anaconda3\\Lib\\site-packages\\langchain_core\\runnables\\config.py:429\u001b[0m, in \u001b[0;36mcall_func_with_variable_args\u001b[1;34m(func, input, config, run_manager, **kwargs)\u001b[0m\n\u001b[0;32m    427\u001b[0m \u001b[38;5;28;01mif\u001b[39;00m run_manager \u001b[38;5;129;01mis\u001b[39;00m \u001b[38;5;129;01mnot\u001b[39;00m \u001b[38;5;28;01mNone\u001b[39;00m \u001b[38;5;129;01mand\u001b[39;00m accepts_run_manager(func):\n\u001b[0;32m    428\u001b[0m     kwargs[\u001b[38;5;124m\"\u001b[39m\u001b[38;5;124mrun_manager\u001b[39m\u001b[38;5;124m\"\u001b[39m] \u001b[38;5;241m=\u001b[39m run_manager\n\u001b[1;32m--> 429\u001b[0m \u001b[38;5;28;01mreturn\u001b[39;00m func(\u001b[38;5;28minput\u001b[39m, \u001b[38;5;241m*\u001b[39m\u001b[38;5;241m*\u001b[39mkwargs)\n",
      "File \u001b[1;32m~\\anaconda3\\Lib\\site-packages\\langchain_core\\prompts\\base.py:189\u001b[0m, in \u001b[0;36mBasePromptTemplate._format_prompt_with_error_handling\u001b[1;34m(self, inner_input)\u001b[0m\n\u001b[0;32m    188\u001b[0m \u001b[38;5;28;01mdef\u001b[39;00m\u001b[38;5;250m \u001b[39m\u001b[38;5;21m_format_prompt_with_error_handling\u001b[39m(\u001b[38;5;28mself\u001b[39m, inner_input: \u001b[38;5;28mdict\u001b[39m) \u001b[38;5;241m-\u001b[39m\u001b[38;5;241m>\u001b[39m PromptValue:\n\u001b[1;32m--> 189\u001b[0m     inner_input_ \u001b[38;5;241m=\u001b[39m \u001b[38;5;28mself\u001b[39m\u001b[38;5;241m.\u001b[39m_validate_input(inner_input)\n\u001b[0;32m    190\u001b[0m     \u001b[38;5;28;01mreturn\u001b[39;00m \u001b[38;5;28mself\u001b[39m\u001b[38;5;241m.\u001b[39mformat_prompt(\u001b[38;5;241m*\u001b[39m\u001b[38;5;241m*\u001b[39minner_input_)\n",
      "File \u001b[1;32m~\\anaconda3\\Lib\\site-packages\\langchain_core\\prompts\\base.py:183\u001b[0m, in \u001b[0;36mBasePromptTemplate._validate_input\u001b[1;34m(self, inner_input)\u001b[0m\n\u001b[0;32m    177\u001b[0m     example_key \u001b[38;5;241m=\u001b[39m missing\u001b[38;5;241m.\u001b[39mpop()\n\u001b[0;32m    178\u001b[0m     msg \u001b[38;5;241m+\u001b[39m\u001b[38;5;241m=\u001b[39m (\n\u001b[0;32m    179\u001b[0m         \u001b[38;5;124mf\u001b[39m\u001b[38;5;124m\"\u001b[39m\u001b[38;5;130;01m\\n\u001b[39;00m\u001b[38;5;124mNote: if you intended \u001b[39m\u001b[38;5;130;01m{{\u001b[39;00m\u001b[38;5;132;01m{\u001b[39;00mexample_key\u001b[38;5;132;01m}\u001b[39;00m\u001b[38;5;130;01m}}\u001b[39;00m\u001b[38;5;124m to be part of the string\u001b[39m\u001b[38;5;124m\"\u001b[39m\n\u001b[0;32m    180\u001b[0m         \u001b[38;5;124m\"\u001b[39m\u001b[38;5;124m and not a variable, please escape it with double curly braces like: \u001b[39m\u001b[38;5;124m\"\u001b[39m\n\u001b[0;32m    181\u001b[0m         \u001b[38;5;124mf\u001b[39m\u001b[38;5;124m\"\u001b[39m\u001b[38;5;124m'\u001b[39m\u001b[38;5;130;01m{{\u001b[39;00m\u001b[38;5;130;01m{{\u001b[39;00m\u001b[38;5;132;01m{\u001b[39;00mexample_key\u001b[38;5;132;01m}\u001b[39;00m\u001b[38;5;130;01m}}\u001b[39;00m\u001b[38;5;130;01m}}\u001b[39;00m\u001b[38;5;124m'\u001b[39m\u001b[38;5;124m.\u001b[39m\u001b[38;5;124m\"\u001b[39m\n\u001b[0;32m    182\u001b[0m     )\n\u001b[1;32m--> 183\u001b[0m     \u001b[38;5;28;01mraise\u001b[39;00m \u001b[38;5;167;01mKeyError\u001b[39;00m(\n\u001b[0;32m    184\u001b[0m         create_message(message\u001b[38;5;241m=\u001b[39mmsg, error_code\u001b[38;5;241m=\u001b[39mErrorCode\u001b[38;5;241m.\u001b[39mINVALID_PROMPT_INPUT)\n\u001b[0;32m    185\u001b[0m     )\n\u001b[0;32m    186\u001b[0m \u001b[38;5;28;01mreturn\u001b[39;00m inner_input\n",
      "\u001b[1;31mKeyError\u001b[0m: \"Input to ChatPromptTemplate is missing variables {'pregunta_usuario'}.  Expected: ['pregunta_usuario'] Received: ['context', 'user_question']\\nNote: if you intended {pregunta_usuario} to be part of the string and not a variable, please escape it with double curly braces like: '{{pregunta_usuario}}'.\\nFor troubleshooting, visit: https://python.langchain.com/docs/troubleshooting/errors/INVALID_PROMPT_INPUT \""
     ]
    }
   ],
   "source": [
    "def start_chat():\n",
    "    \"\"\"\n",
    "    Presenta un menú para elegir un documento, carga su base de datos vectorial\n",
    "    y permite chatear con una personalidad dinámica.\n",
    "    \"\"\"\n",
    "    if not api_key:\n",
    "        print(\"Proceso detenido. No se pudo cargar la API key.\")\n",
    "        return\n",
    "\n",
    "    # --- CONFIGURACIÓN DE LA ESTRUCTURA DE CARPETAS FINAL ---\n",
    "    FOLDER_BASE = \"../database\"\n",
    "    FOLDER_INDEX = os.path.join(FOLDER_BASE, \"indexed\", \"faiss\")\n",
    "\n",
    "    # 1. OBTENER Y MOSTRAR LOS ÍNDICES DISPONIBLES\n",
    "    index_list = get_available_indexes(FOLDER_INDEX)\n",
    "\n",
    "    if not index_list:\n",
    "        print(\"No se encontraron documentos procesados para iniciar el chat.\")\n",
    "        return\n",
    "\n",
    "    teachers_data = [\n",
    "        {\"teacher\": \"Victor\", \"docs\": 0},\n",
    "        {\"teacher\": \"Diego\", \"docs\": len(index_list)},\n",
    "        {\"teacher\": \"Javier\", \"docs\": 0},\n",
    "        {\"teacher\": \"Luis\", \"docs\": 0},\n",
    "    ]\n",
    "\n",
    "    print(\"\\n--- Profesores Disponibles ---\")\n",
    "    for i, item in enumerate(teachers_data):\n",
    "        status = \"✅ Disponible\" if item[\"docs\"] > 0 else \"⛔ No disponible\"\n",
    "        print(f\"{i + 1}. {item['teacher']} ({item['docs']} documentos) {status}\")\n",
    "\n",
    "    # Selección del profesor\n",
    "    selected_index = -1\n",
    "    while selected_index < 0 or selected_index >= len(teachers_data):\n",
    "        try:\n",
    "            choice = input(f\"\\nSelecciona un profesor (1-{len(teachers_data)}): \")\n",
    "            selected_index = int(choice) - 1\n",
    "            if selected_index < 0 or selected_index >= len(teachers_data):\n",
    "                print(\"Selección inválida.\")\n",
    "        except ValueError:\n",
    "            print(\"Entrada no válida.\")\n",
    "\n",
    "    selected_teacher = teachers_data[selected_index]\n",
    "\n",
    "    if selected_teacher[\"docs\"] == 0:\n",
    "        print(\n",
    "            f\"\\nEl profesor {selected_teacher['teacher']} aún no tiene temas disponibles.\"\n",
    "        )\n",
    "        return\n",
    "\n",
    "    print(\n",
    "        f\"\\nHas seleccionado al profesor {selected_teacher['teacher']} con especialidad en {selected_teacher['docs']} areas de conocimiento.\"\n",
    "    )\n",
    "    # Aquí podrías continuar con la selección de área o documento específico\n",
    "\n",
    "    print(\"\\n--- Áreas de conocimiento disponibles para Consulta ---\")\n",
    "    # Limpiamos los nombres para que sean más legibles en el menú\n",
    "    friendly_names = [name.replace(\"faiss_index_\", \"\") for name in index_list]\n",
    "\n",
    "    for i, name in enumerate(friendly_names):\n",
    "        print(f\"{i + 1}. {name}\")\n",
    "\n",
    "    # 2. PERMITIR AL USUARIO ELEGIR UN DOCUMENTO\n",
    "    user_selection = -1\n",
    "    while user_selection < 0 or user_selection >= len(index_list):\n",
    "        try:\n",
    "            choice = input(\n",
    "                f\"\\nElige el número del área de conocimiento sobre la cual desea profundizar (1-{len(index_list)}): \"\n",
    "            )\n",
    "            user_selection = int(choice) - 1\n",
    "            if user_selection < 0 or user_selection >= len(index_list):\n",
    "                print(\"Selección inválida. Por favor, elige un número de la lista.\")\n",
    "        except ValueError:\n",
    "            print(\"Entrada no válida. Por favor, introduce un número.\")\n",
    "\n",
    "    selected_folder_name = index_list[user_selection]\n",
    "    selected_document_name = friendly_names[user_selection]\n",
    "    full_index_path = os.path.join(FOLDER_INDEX, selected_folder_name)\n",
    "\n",
    "    # 3. PERSONALIZACIÓN DINÁMICA DE LA PERSONALIDAD\n",
    "    print(\"\\n--- Configuración del Asistente ---\")\n",
    "    teacher_name = selected_teacher[\"teacher\"]\n",
    "\n",
    "    knowledge_domain = selected_document_name\n",
    "\n",
    "    # 4. Carga de la base de datos vectorial SELECCIONADA\n",
    "    print(\n",
    "        f\"\\nCargando la base de datos de '{selected_document_name}' desde '{full_index_path}'...\"\n",
    "    )\n",
    "\n",
    "    print(f\"Profesor '{teacher_name}' es experto en '{knowledge_domain}' \")\n",
    "    try:\n",
    "        embeddings = GoogleGenerativeAIEmbeddings(\n",
    "            model=\"models/embedding-001\", google_api_key=api_key\n",
    "        )\n",
    "        vectorstore = FAISS.load_local(\n",
    "            full_index_path, embeddings, allow_dangerous_deserialization=True\n",
    "        )\n",
    "        retriever = vectorstore.as_retriever()\n",
    "        print(\"¡Base de datos cargada exitosamente!\")\n",
    "    except Exception as e:\n",
    "        print(f\"Error al cargar la base de datos vectorial: {e}\")\n",
    "        return\n",
    "\n",
    "    # 5. Configuración del LLM y la cadena RAG\n",
    "    llm = ChatGoogleGenerativeAI(\n",
    "        model=\"gemini-1.5-flash\", temperature=0.3, google_api_key=api_key\n",
    "    )\n",
    "\n",
    "    # 6.1 Prompt con personalidad y contexto\n",
    "    system_tamplate = \"\"\"Eres un asistente virtual que se comporta como un profesor de {knowledgeDomain} experto.\n",
    "    Tu nombre es \"IAsistente de {Teacher}\". Eres amable, didáctico y te encanta {knowledgeDomain}. \n",
    "    REGLA ESTRICTA: Solo puedes responder preguntas relacionadas con {knowledgeDomain} basándote en el contexto proporcionado. Si la pregunta no está relacionada con estos temas, \n",
    "    responde: \"Lo siento, mi especialidad es {knowledgeDomain}. No puedo responder preguntas sobre otros temas.\n",
    "    Cuando te digan \"salir\", te despedirás amablemente.\"\"\"\n",
    "\n",
    "    system_message_prompt = SystemMessagePromptTemplate.from_template(system_tamplate)\n",
    "\n",
    "    # 6.2 Prompt para la pregunta del usuario\n",
    "    human_template = \"{user_question}\"\n",
    "    human_message_prompt = HumanMessagePromptTemplate.from_template(human_template)\n",
    "\n",
    "    # 6.3 Combinación de los prompts en un ChatPromptTemplate\n",
    "\n",
    "    chat_prompt_template = ChatPromptTemplate.from_messages(\n",
    "        [system_message_prompt, human_message_prompt]\n",
    "    )\n",
    "\n",
    "    # 6.4 Definición de las variables del sistema\n",
    "    chat_prompt_template = chat_prompt_template.partial(\n",
    "        Teacher=teacher_name, knowledgeDomain=knowledge_domain\n",
    "    )\n",
    "\n",
    "    rag_chain = (\n",
    "        {\"context\": retriever, \"user_question\": RunnablePassthrough()}\n",
    "        | chat_prompt_template\n",
    "        | llm\n",
    "        | StrOutputParser()\n",
    "    )\n",
    "\n",
    "    print(\n",
    "        f\"\\n¡El Asistente de {teacher_name} está listo para responder preguntas sobre {knowledge_domain}!\"\n",
    "    )\n",
    "    print(\"Escribe 'salir' para terminar la conversación.\")\n",
    "\n",
    "    # 7. Bucle de chat\n",
    "    while True:\n",
    "        query = input(\"\\nPregunta del estudiante: \")\n",
    "\n",
    "        response = rag_chain.invoke(query)\n",
    "\n",
    "        print(f\"\\nRespuesta del Asistente de {teacher_name}:\")\n",
    "        print(response)\n",
    "\n",
    "        if query.lower() == \"salir\":\n",
    "            break\n",
    "\n",
    "if __name__ == \"__main__\":\n",
    "    start_chat()"
   ]
  },
  {
   "cell_type": "code",
   "execution_count": null,
   "id": "82723990",
   "metadata": {},
   "outputs": [],
   "source": []
  }
 ],
 "metadata": {
  "kernelspec": {
   "display_name": "Python [conda env:base] *",
   "language": "python",
   "name": "conda-base-py"
  },
  "language_info": {
   "codemirror_mode": {
    "name": "ipython",
    "version": 3
   },
   "file_extension": ".py",
   "mimetype": "text/x-python",
   "name": "python",
   "nbconvert_exporter": "python",
   "pygments_lexer": "ipython3",
   "version": "3.13.5"
  }
 },
 "nbformat": 4,
 "nbformat_minor": 5
}
